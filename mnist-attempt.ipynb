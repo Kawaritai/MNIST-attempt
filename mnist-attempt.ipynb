{
 "cells": [
  {
   "cell_type": "markdown",
   "metadata": {},
   "source": [
    "# MNIST Attempt\n"
   ]
  },
  {
   "cell_type": "markdown",
   "metadata": {},
   "source": [
    "## Download the MNIST dataset\n",
    "* Archive of the original website: [http://archive.today/2021.09.01-221543/http://yann.lecun.com/exdb/mnist/](http://archive.today/2021.09.01-221543/http://yann.lecun.com/exdb/mnist/)\n",
    "    * Train Images: https://ossci-datasets.s3.amazonaws.com/mnist/train-images-idx3-ubyte.gz\n",
    "    * Train Labels: https://ossci-datasets.s3.amazonaws.com/mnist/train-labels-idx1-ubyte.gz\n",
    "    * Test Images: https://ossci-datasets.s3.amazonaws.com/mnist/t10k-images-idx3-ubyte.gz\n",
    "    * Test Labels: https://ossci-datasets.s3.amazonaws.com/mnist/t10k-labels-idx1-ubyte.gz"
   ]
  },
  {
   "cell_type": "code",
   "execution_count": 13,
   "metadata": {},
   "outputs": [],
   "source": [
    "import requests\n",
    "import os"
   ]
  },
  {
   "cell_type": "code",
   "execution_count": null,
   "metadata": {},
   "outputs": [],
   "source": [
    "# URLs for the datasets\n",
    "train_images_dl: str = \"https://ossci-datasets.s3.amazonaws.com/mnist/train-images-idx3-ubyte.gz\"\n",
    "train_labels_dl = \"https://ossci-datasets.s3.amazonaws.com/mnist/train-labels-idx1-ubyte.gz\"\n",
    "test_images_dl = \"https://ossci-datasets.s3.amazonaws.com/mnist/t10k-images-idx3-ubyte.gz\"\n",
    "test_labels_dl = \"https://ossci-datasets.s3.amazonaws.com/mnist/t10k-labels-idx1-ubyte.gz\"\n",
    "\n",
    "destination_folder = \"./dataset\"\n",
    "\n",
    "def download(url: str, dest_folder: str):\n",
    "    if not os.path.exists(dest_folder):\n",
    "        os.makedirs(dest_folder) # Create folder\n",
    "\n",
    "    filename = url.split('/')[-1].replace(\" \", \"_\")\n",
    "    file_path = os.path.join(dest_folder, filename)\n",
    "\n",
    "    r = requests.get(url, stream=True)\n",
    "    if r.ok:\n",
    "        print(\"Saving to\", os.path.abspath(file_path))\n",
    "        with open(file_path, \"wb\") as f:\n",
    "            for chunk in r.iter_content(chunk_size=1024 * 8):\n",
    "                if chunk:\n",
    "                    f.write(chunk)\n",
    "                    f.flush()\n",
    "                    os.fsync(f.fileno())\n",
    "    else: print(\"Download failed: status code {}\\n{}\".format(r.status_code, r.text))\n",
    "\n",
    "    return file_path"
   ]
  },
  {
   "cell_type": "code",
   "execution_count": 16,
   "metadata": {},
   "outputs": [
    {
     "name": "stdout",
     "output_type": "stream",
     "text": [
      "Saving to c:\\Users\\zhangha\\Documents\\Repositories\\MNIST-attempt\\dataset\\train-images-idx3-ubyte.gz\n",
      "Saving to c:\\Users\\zhangha\\Documents\\Repositories\\MNIST-attempt\\dataset\\train-labels-idx1-ubyte.gz\n",
      "Saving to c:\\Users\\zhangha\\Documents\\Repositories\\MNIST-attempt\\dataset\\t10k-images-idx3-ubyte.gz\n",
      "Saving to c:\\Users\\zhangha\\Documents\\Repositories\\MNIST-attempt\\dataset\\t10k-labels-idx1-ubyte.gz\n"
     ]
    }
   ],
   "source": [
    "# Download datasets\n",
    "download(train_images_dl, destination_folder)\n",
    "download(train_labels_dl, destination_folder)\n",
    "download(test_images_dl, destination_folder)\n",
    "download(test_labels_dl, destination_folder)"
   ]
  },
  {
   "cell_type": "code",
   "execution_count": 34,
   "metadata": {},
   "outputs": [],
   "source": [
    "# Remove the .gz extension\n",
    "for fp in os.listdir(destination_folder):\n",
    "    fp = os.path.join(destination_folder,fp)\n",
    "    if fp[-3:] == \".gz\": os.rename(fp, fp[:-3])"
   ]
  },
  {
   "cell_type": "code",
   "execution_count": 29,
   "metadata": {},
   "outputs": [
    {
     "name": "stdout",
     "output_type": "stream",
     "text": [
      "\u001b[1;31mSignature:\u001b[0m \u001b[0mos\u001b[0m\u001b[1;33m.\u001b[0m\u001b[0mwalk\u001b[0m\u001b[1;33m(\u001b[0m\u001b[0mtop\u001b[0m\u001b[1;33m,\u001b[0m \u001b[0mtopdown\u001b[0m\u001b[1;33m=\u001b[0m\u001b[1;32mTrue\u001b[0m\u001b[1;33m,\u001b[0m \u001b[0monerror\u001b[0m\u001b[1;33m=\u001b[0m\u001b[1;32mNone\u001b[0m\u001b[1;33m,\u001b[0m \u001b[0mfollowlinks\u001b[0m\u001b[1;33m=\u001b[0m\u001b[1;32mFalse\u001b[0m\u001b[1;33m)\u001b[0m\u001b[1;33m\u001b[0m\u001b[1;33m\u001b[0m\u001b[0m\n",
      "\u001b[1;31mDocstring:\u001b[0m\n",
      "Directory tree generator.\n",
      "\n",
      "For each directory in the directory tree rooted at top (including top\n",
      "itself, but excluding '.' and '..'), yields a 3-tuple\n",
      "\n",
      "    dirpath, dirnames, filenames\n",
      "\n",
      "dirpath is a string, the path to the directory.  dirnames is a list of\n",
      "the names of the subdirectories in dirpath (excluding '.' and '..').\n",
      "filenames is a list of the names of the non-directory files in dirpath.\n",
      "Note that the names in the lists are just names, with no path components.\n",
      "To get a full path (which begins with top) to a file or directory in\n",
      "dirpath, do os.path.join(dirpath, name).\n",
      "\n",
      "If optional arg 'topdown' is true or not specified, the triple for a\n",
      "directory is generated before the triples for any of its subdirectories\n",
      "(directories are generated top down).  If topdown is false, the triple\n",
      "for a directory is generated after the triples for all of its\n",
      "subdirectories (directories are generated bottom up).\n",
      "\n",
      "When topdown is true, the caller can modify the dirnames list in-place\n",
      "(e.g., via del or slice assignment), and walk will only recurse into the\n",
      "subdirectories whose names remain in dirnames; this can be used to prune the\n",
      "search, or to impose a specific order of visiting.  Modifying dirnames when\n",
      "topdown is false has no effect on the behavior of os.walk(), since the\n",
      "directories in dirnames have already been generated by the time dirnames\n",
      "itself is generated. No matter the value of topdown, the list of\n",
      "subdirectories is retrieved before the tuples for the directory and its\n",
      "subdirectories are generated.\n",
      "\n",
      "By default errors from the os.scandir() call are ignored.  If\n",
      "optional arg 'onerror' is specified, it should be a function; it\n",
      "will be called with one argument, an OSError instance.  It can\n",
      "report the error to continue with the walk, or raise the exception\n",
      "to abort the walk.  Note that the filename is available as the\n",
      "filename attribute of the exception object.\n",
      "\n",
      "By default, os.walk does not follow symbolic links to subdirectories on\n",
      "systems that support them.  In order to get this functionality, set the\n",
      "optional argument 'followlinks' to true.\n",
      "\n",
      "Caution:  if you pass a relative pathname for top, don't change the\n",
      "current working directory between resumptions of walk.  walk never\n",
      "changes the current directory, and assumes that the client doesn't\n",
      "either.\n",
      "\n",
      "Example:\n",
      "\n",
      "import os\n",
      "from os.path import join, getsize\n",
      "for root, dirs, files in os.walk('python/Lib/email'):\n",
      "    print(root, \"consumes\", end=\"\")\n",
      "    print(sum(getsize(join(root, name)) for name in files), end=\"\")\n",
      "    print(\"bytes in\", len(files), \"non-directory files\")\n",
      "    if 'CVS' in dirs:\n",
      "        dirs.remove('CVS')  # don't visit CVS directories\n",
      "\u001b[1;31mFile:\u001b[0m      d:\\miniconda3\\envs\\mnist-attempt\\lib\\os.py\n",
      "\u001b[1;31mType:\u001b[0m      function"
     ]
    }
   ],
   "source": []
  },
  {
   "cell_type": "code",
   "execution_count": null,
   "metadata": {},
   "outputs": [],
   "source": []
  }
 ],
 "metadata": {
  "kernelspec": {
   "display_name": "mnist-attempt",
   "language": "python",
   "name": "python3"
  },
  "language_info": {
   "codemirror_mode": {
    "name": "ipython",
    "version": 3
   },
   "file_extension": ".py",
   "mimetype": "text/x-python",
   "name": "python",
   "nbconvert_exporter": "python",
   "pygments_lexer": "ipython3",
   "version": "3.9.21"
  }
 },
 "nbformat": 4,
 "nbformat_minor": 2
}
