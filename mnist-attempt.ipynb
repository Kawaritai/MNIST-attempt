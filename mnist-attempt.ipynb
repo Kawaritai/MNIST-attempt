{
 "cells": [
  {
   "cell_type": "markdown",
   "metadata": {},
   "source": [
    "# MNIST Attempt\n"
   ]
  },
  {
   "cell_type": "markdown",
   "metadata": {},
   "source": [
    "## Download the MNIST dataset\n",
    "* Archive of the original website: [http://archive.today/2021.09.01-221543/http://yann.lecun.com/exdb/mnist/](http://archive.today/2021.09.01-221543/http://yann.lecun.com/exdb/mnist/)\n",
    "    * Train Images: https://ossci-datasets.s3.amazonaws.com/mnist/train-images-idx3-ubyte.gz\n",
    "    * Train Labels: https://ossci-datasets.s3.amazonaws.com/mnist/train-labels-idx1-ubyte.gz\n",
    "    * Test Images: https://ossci-datasets.s3.amazonaws.com/mnist/t10k-images-idx3-ubyte.gz\n",
    "    * Test Labels: https://ossci-datasets.s3.amazonaws.com/mnist/t10k-labels-idx1-ubyte.gz"
   ]
  },
  {
   "cell_type": "code",
   "execution_count": 13,
   "metadata": {},
   "outputs": [],
   "source": [
    "import requests\n",
    "import os"
   ]
  },
  {
   "cell_type": "code",
   "execution_count": 61,
   "metadata": {},
   "outputs": [],
   "source": [
    "# URLs for the datasets\n",
    "train_images_dl: str = \"https://ossci-datasets.s3.amazonaws.com/mnist/train-images-idx3-ubyte.gz\"\n",
    "train_labels_dl = \"https://ossci-datasets.s3.amazonaws.com/mnist/train-labels-idx1-ubyte.gz\"\n",
    "test_images_dl = \"https://ossci-datasets.s3.amazonaws.com/mnist/t10k-images-idx3-ubyte.gz\"\n",
    "test_labels_dl = \"https://ossci-datasets.s3.amazonaws.com/mnist/t10k-labels-idx1-ubyte.gz\"\n",
    "\n",
    "destination_folder = \"./dataset\"\n",
    "\n",
    "def download(url: str, dest_folder: str):\n",
    "    if not os.path.exists(dest_folder):\n",
    "        os.makedirs(dest_folder) # Create folder\n",
    "\n",
    "    filename = url.split('/')[-1].replace(\" \", \"_\")\n",
    "    file_path = os.path.join(dest_folder, filename)\n",
    "\n",
    "    r = requests.get(url, stream=True)\n",
    "    if r.ok:\n",
    "        print(\"Saving to\", os.path.abspath(file_path))\n",
    "        with open(file_path, \"wb\") as f:\n",
    "            for chunk in r.iter_content(chunk_size=1024 * 8):\n",
    "                if chunk:\n",
    "                    f.write(chunk)\n",
    "                    f.flush()\n",
    "                    os.fsync(f.fileno())\n",
    "    else: print(\"Download failed: status code {}\\n{}\".format(r.status_code, r.text))\n",
    "\n",
    "    return file_path"
   ]
  },
  {
   "cell_type": "code",
   "execution_count": 62,
   "metadata": {},
   "outputs": [
    {
     "name": "stdout",
     "output_type": "stream",
     "text": [
      "Saving to c:\\Users\\zhangha\\Documents\\Repositories\\MNIST-attempt\\dataset\\train-images-idx3-ubyte.gz\n",
      "Saving to c:\\Users\\zhangha\\Documents\\Repositories\\MNIST-attempt\\dataset\\train-labels-idx1-ubyte.gz\n",
      "Saving to c:\\Users\\zhangha\\Documents\\Repositories\\MNIST-attempt\\dataset\\t10k-images-idx3-ubyte.gz\n",
      "Saving to c:\\Users\\zhangha\\Documents\\Repositories\\MNIST-attempt\\dataset\\t10k-labels-idx1-ubyte.gz\n"
     ]
    }
   ],
   "source": [
    "# Download datasets\n",
    "train_images_idx3_fp = download(train_images_dl, destination_folder)\n",
    "train_labels_idx1_fp = download(train_labels_dl, destination_folder)\n",
    "t10k_images_idx3_fp = download(test_images_dl, destination_folder)\n",
    "t10k_labels_idx1_fp = download(test_labels_dl, destination_folder)"
   ]
  },
  {
   "cell_type": "code",
   "execution_count": 63,
   "metadata": {},
   "outputs": [
    {
     "data": {
      "text/plain": [
       "('./dataset\\\\train-images-idx3-ubyte.gz',\n",
       " './dataset\\\\train-labels-idx1-ubyte.gz',\n",
       " './dataset\\\\t10k-images-idx3-ubyte.gz',\n",
       " './dataset\\\\t10k-labels-idx1-ubyte.gz')"
      ]
     },
     "execution_count": 63,
     "metadata": {},
     "output_type": "execute_result"
    }
   ],
   "source": [
    "train_images_idx3_fp,train_labels_idx1_fp,t10k_images_idx3_fp,t10k_labels_idx1_fp"
   ]
  },
  {
   "cell_type": "markdown",
   "metadata": {},
   "source": [
    "## FILE FORMATS FOR THE MNIST DATABASE\n",
    "The data is stored in a very simple file format designed for storing vectors and multidimensional matrices. General info on this format is given at the end of this page, but you don't need to read that to use the data files.\n",
    "All the integers in the files are stored in the MSB first (high endian) format used by most non-Intel processors. Users of Intel processors and other low-endian machines must flip the bytes of the header.\n",
    "There are 4 files:\n",
    "```\n",
    "train-images-idx3-ubyte: training set images\n",
    "train-labels-idx1-ubyte: training set labels\n",
    "t10k-images-idx3-ubyte:  test set images\n",
    "t10k-labels-idx1-ubyte:  test set labels\n",
    "```\n",
    "The training set contains 60000 examples, and the test set 10000 examples.\n",
    "The first 5000 examples of the test set are taken from the original NIST training set. The last 5000 are taken from the original NIST test set. The first 5000 are cleaner and easier than the last 5000.\n",
    "## TRAINING SET LABEL FILE (train-labels-idx1-ubyte)\n",
    "\n",
    "| Offset | Type           | Value                   | Description                  |\n",
    "|--------|--------------|----------------------|------------------------------|\n",
    "| 0000   | 32 bit integer | 0x00000801 (2049)    | magic number (MSB first)    |\n",
    "| 0004   | 32 bit integer | 60000                | number of items             |\n",
    "| 0008   | unsigned byte  | ??                   | label                        |\n",
    "| 0009   | unsigned byte  | ??                   | label                        |\n",
    "| ........ | unsigned byte  | ??                   | label                        |\n",
    "| xxxx   | unsigned byte  | ??                   | label                        |\n",
    "\n",
    "The labels values are 0 to 9.\n",
    "\n",
    "\n",
    "## TRAINING SET IMAGE FILE (train-images-idx3-ubyte)\n",
    "\n",
    "| Offset | Type           | Value                   | Description                  |\n",
    "|--------|--------------|----------------------|------------------------------|\n",
    "| 0000   | 32 bit integer | 0x00000803 (2051)    | magic number                 |\n",
    "| 0004   | 32 bit integer | 60000                | number of images             |\n",
    "| 0008   | 32 bit integer | 28                   | number of rows               |\n",
    "| 0012   | 32 bit integer | 28                   | number of columns            |\n",
    "| 0016   | unsigned byte  | ??                   | pixel                        |\n",
    "| 0017   | unsigned byte  | ??                   | pixel                        |\n",
    "| ........ | unsigned byte  | ??                   | pixel                        |\n",
    "| xxxx   | unsigned byte  | ??                   | pixel                        |\n",
    "\n",
    "Pixels are organized row-wise. Pixel values are 0 to 255.  \n",
    "0 means background (white), 255 means foreground (black).\n",
    "\n",
    "\n",
    "## TEST SET LABEL FILE (t10k-labels-idx1-ubyte)\n",
    "\n",
    "| Offset | Type           | Value                   | Description                  |\n",
    "|--------|--------------|----------------------|------------------------------|\n",
    "| 0000   | 32 bit integer | 0x00000801 (2049)    | magic number (MSB first)    |\n",
    "| 0004   | 32 bit integer | 10000                | number of items             |\n",
    "| 0008   | unsigned byte  | ??                   | label                        |\n",
    "| 0009   | unsigned byte  | ??                   | label                        |\n",
    "| ........ | unsigned byte  | ??                   | label                        |\n",
    "| xxxx   | unsigned byte  | ??                   | label                        |\n",
    "\n",
    "The labels values are 0 to 9.\n",
    "\n",
    "\n",
    "## TEST SET IMAGE FILE (t10k-images-idx3-ubyte)\n",
    "\n",
    "| Offset | Type           | Value                   | Description                  |\n",
    "|--------|--------------|----------------------|------------------------------|\n",
    "| 0000   | 32 bit integer | 0x00000803 (2051)    | magic number                 |\n",
    "| 0004   | 32 bit integer | 10000                | number of images             |\n",
    "| 0008   | 32 bit integer | 28                   | number of rows               |\n",
    "| 0012   | 32 bit integer | 28                   | number of columns            |\n",
    "| 0016   | unsigned byte  | ??                   | pixel                        |\n",
    "| 0017   | unsigned byte  | ??                   | pixel                        |\n",
    "| ........ | unsigned byte  | ??                   | pixel                        |\n",
    "| xxxx   | unsigned byte  | ??                   | pixel                        |\n",
    "\n",
    "Pixels are organized row-wise. Pixel values are 0 to 255.  \n",
    "0 means background (white), 255 means foreground (black).\n"
   ]
  },
  {
   "cell_type": "code",
   "execution_count": 77,
   "metadata": {},
   "outputs": [
    {
     "name": "stdout",
     "output_type": "stream",
     "text": [
      "0 (60000,)\n",
      "1 (10000,)\n"
     ]
    },
    {
     "data": {
      "text/plain": [
       "[array([5, 0, 4, ..., 5, 6, 8], dtype=uint8),\n",
       " array([7, 2, 1, ..., 4, 5, 6], dtype=uint8)]"
      ]
     },
     "execution_count": 77,
     "metadata": {},
     "output_type": "execute_result"
    }
   ],
   "source": [
    "import gzip\n",
    "import struct\n",
    "import numpy as np\n",
    "import matplotlib as plt\n",
    "\n",
    "# Credits: https://stackoverflow.com/questions/39969045/parsing-yann-lecuns-mnist-idx-file-format/68875266#68875266\n",
    "\n",
    "\n",
    "labels = []\n",
    "# labels_idx1\n",
    "for i, fp in enumerate([train_labels_idx1_fp, t10k_labels_idx1_fp]):\n",
    "    with gzip.open(fp,\"rb\") as f:\n",
    "        # struct.unpack to specifically read in a certain format\n",
    "        # >II: big-endian, II unsigned integers (each 4b)\n",
    "        # read(8): read 8 bytes at a time\n",
    "        magic, nitems = struct.unpack(\">II\", f.read(8))\n",
    "        data = np.frombuffer(f.read(), dtype=np.dtype(np.uint8).newbyteorder(\">\"))\n",
    "        data = data.reshape((nitems))\n",
    "        print(i, data.shape)\n",
    "        labels.append(data)\n",
    "labels"
   ]
  },
  {
   "cell_type": "code",
   "execution_count": 83,
   "metadata": {},
   "outputs": [
    {
     "name": "stdout",
     "output_type": "stream",
     "text": [
      "(60000, 28, 28)\n",
      "(10000, 28, 28)\n"
     ]
    },
    {
     "data": {
      "text/plain": [
       "(60000, 10000)"
      ]
     },
     "execution_count": 83,
     "metadata": {},
     "output_type": "execute_result"
    }
   ],
   "source": [
    "images = []\n",
    "# images_idx3\n",
    "for fp in [train_images_idx3_fp, t10k_images_idx3_fp]:\n",
    "    with gzip.open(fp,\"rb\") as f:\n",
    "        # struct.unpack to specifically read in a certain format\n",
    "        # >II: big-endian, II unsigned integers (each 4b)\n",
    "        # read(8): read 8 bytes at a time\n",
    "        magic, nitems = struct.unpack(\">II\", f.read(8))\n",
    "        nrows, ncols = struct.unpack(\">II\", f.read(8))\n",
    "        data = np.frombuffer(f.read(), dtype=np.dtype(np.uint8).newbyteorder(\">\"))\n",
    "        data = data.reshape((nitems, nrows, ncols))\n",
    "        print(data.shape)\n",
    "        images.append(data)\n",
    "\n",
    "len(images[0]), len(images[1])"
   ]
  },
  {
   "cell_type": "code",
   "execution_count": 88,
   "metadata": {},
   "outputs": [
    {
     "data": {
      "image/png": "[encoded data removed]",
      "text/plain": [
       "<Figure size 640x480 with 1 Axes>"
      ]
     },
     "metadata": {},
     "output_type": "display_data"
    },
    {
     "name": "stdout",
     "output_type": "stream",
     "text": [
      "Labelled as 0\n"
     ]
    },
    {
     "data": {
      "image/png": "[encoded data removed]",
      "text/plain": [
       "<Figure size 640x480 with 1 Axes>"
      ]
     },
     "metadata": {},
     "output_type": "display_data"
    },
    {
     "name": "stdout",
     "output_type": "stream",
     "text": [
      "Labelled as 2\n"
     ]
    }
   ],
   "source": [
    "%matplotlib inline\n",
    "import matplotlib.pyplot as plt\n",
    "\n",
    "# Sanity check\n",
    "def view_image(which, check_idx):\n",
    "    plt.imshow(images[which][check_idx,:,:], cmap='gray')\n",
    "    plt.show()\n",
    "    print(f\"Labelled as {labels[which][check_idx]}\")\n",
    "\n",
    "view_image(0, 1)\n",
    "view_image(1, 1)"
   ]
  },
  {
   "cell_type": "code",
   "execution_count": null,
   "metadata": {},
   "outputs": [],
   "source": []
  }
 ],
 "metadata": {
  "kernelspec": {
   "display_name": "mnist-attempt",
   "language": "python",
   "name": "python3"
  },
  "language_info": {
   "codemirror_mode": {
    "name": "ipython",
    "version": 3
   },
   "file_extension": ".py",
   "mimetype": "text/x-python",
   "name": "python",
   "nbconvert_exporter": "python",
   "pygments_lexer": "ipython3",
   "version": "3.9.21"
  }
 },
 "nbformat": 4,
 "nbformat_minor": 2
}
